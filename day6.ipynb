{
 "cells": [
  {
   "cell_type": "code",
   "execution_count": null,
   "metadata": {},
   "outputs": [],
   "source": [
    "from cProfile import label\n",
    "from pydoc import describe\n",
    "import re \n",
    "import gradio as gr\n",
    "\n",
    "def data_processing(text):\n",
    "    return re.sub(r'[^a-zA-Z0-9]' , '', text)\n",
    "\n",
    "gradio_io = gr.Interface(\n",
    "    fn = data_processing,\n",
    "    tittle = \"Data processing dan model\",\n",
    "    description = \"abc\" ,\n",
    "    inputs = gr.inputs.Textbox(lines=10 , label = \"paste here\"),\n",
    "    outputs = [\n",
    "        gr.outputs.Textbox(label=\"result\"),\n",
    "    \n",
    "    ],\n",
    "\n",
    ")\n",
    "\n",
    "gradio_io.launch()"
   ]
  }
 ],
 "metadata": {
  "kernelspec": {
   "display_name": "Python 3.10.6 64-bit",
   "language": "python",
   "name": "python3"
  },
  "language_info": {
   "codemirror_mode": {
    "name": "ipython",
    "version": 3
   },
   "file_extension": ".py",
   "mimetype": "text/x-python",
   "name": "python",
   "nbconvert_exporter": "python",
   "pygments_lexer": "ipython3",
   "version": "3.10.6"
  },
  "orig_nbformat": 4,
  "vscode": {
   "interpreter": {
    "hash": "2469a70536e4d2335a2ea8907942d0699c37342a371ac185bdb5b0aa6f073890"
   }
  }
 },
 "nbformat": 4,
 "nbformat_minor": 2
}
